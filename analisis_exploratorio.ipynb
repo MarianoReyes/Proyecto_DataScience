{
 "cells": [
  {
   "cell_type": "code",
   "execution_count": 2,
   "metadata": {},
   "outputs": [
    {
     "name": "stdout",
     "output_type": "stream",
     "text": [
      "     student_id prompt_id            text\n",
      "0  000000ffffff    abc123  Example text 1\n",
      "1  111111eeeeee    def789  Example text 2\n",
      "2  222222cccccc    abc123  Example text 3\n",
      "3  333333dddddd    def789  Example text 4\n",
      "     student_id prompt_id                                               text  \\\n",
      "0  000e8c3c7ddb    814d6b  The third wave was an experimentto see how peo...   \n",
      "1  0020ae56ffbf    ebad26  They would rub it up with soda to make the sme...   \n",
      "2  004e978e639e    3b9047  In Egypt, there were many occupations and soci...   \n",
      "3  005ab0199905    3b9047  The highest class was Pharaohs these people we...   \n",
      "4  0070c9e7af47    814d6b  The Third Wave developed  rapidly because the ...   \n",
      "\n",
      "    content   wording  \n",
      "0  0.205683  0.380538  \n",
      "1 -0.548304  0.506755  \n",
      "2  3.128928  4.231226  \n",
      "3 -0.210614 -0.471415  \n",
      "4  3.272894  3.219757  \n",
      "  prompt_id prompt_question     prompt_title       prompt_text\n",
      "0    abc123    Summarize...  Example Title 1  Heading\\nText...\n",
      "1    def789    Summarize...  Example Title 2  Heading\\nText...\n",
      "  prompt_id                                    prompt_question  \\\n",
      "0    39c16e  Summarize at least 3 elements of an ideal trag...   \n",
      "1    3b9047  In complete sentences, summarize the structure...   \n",
      "2    814d6b  Summarize how the Third Wave developed over su...   \n",
      "3    ebad26  Summarize the various ways the factory would u...   \n",
      "\n",
      "                prompt_title  \\\n",
      "0                 On Tragedy   \n",
      "1  Egyptian Social Structure   \n",
      "2             The Third Wave   \n",
      "3    Excerpt from The Jungle   \n",
      "\n",
      "                                         prompt_text  \n",
      "0  Chapter 13 \\r\\nAs the sequel to what has alrea...  \n",
      "1  Egyptian society was structured like a pyramid...  \n",
      "2  Background \\r\\nThe Third Wave experiment took ...  \n",
      "3  With one member trimming beef in a cannery, an...  \n",
      "           content      wording\n",
      "count  7165.000000  7165.000000\n",
      "mean     -0.014853    -0.063072\n",
      "std       1.043569     1.036048\n",
      "min      -1.729859    -1.962614\n",
      "25%      -0.799545    -0.872720\n",
      "50%      -0.093814    -0.081769\n",
      "75%       0.499660     0.503833\n",
      "max       3.900326     4.310693\n"
     ]
    },
    {
     "data": {
      "image/png": "[encoded data removed]",
      "text/plain": [
       "<Figure size 640x480 with 1 Axes>"
      ]
     },
     "metadata": {},
     "output_type": "display_data"
    },
    {
     "data": {
      "image/png": "[encoded data removed]",
      "text/plain": [
       "<Figure size 640x480 with 1 Axes>"
      ]
     },
     "metadata": {},
     "output_type": "display_data"
    },
    {
     "name": "stdout",
     "output_type": "stream",
     "text": [
      "Valores únicos en 'prompt_id': 4\n"
     ]
    }
   ],
   "source": [
    "import pandas as pd\n",
    "import seaborn as sns\n",
    "import matplotlib.pyplot as plt\n",
    "\n",
    "# Cargamos los datos de los cuatro archivos csv\n",
    "df_summaries_test = pd.read_csv('data/summaries_test.csv')\n",
    "df_summaries_train = pd.read_csv('data/summaries_train.csv')\n",
    "df_prompts_test = pd.read_csv('data/prompts_test.csv')\n",
    "df_prompts_train = pd.read_csv('data/prompts_train.csv')\n",
    "\n",
    "# Verificamos que se hayan cargado bien, mostrando las primeras filas de cada uno\n",
    "print(df_summaries_test.head())\n",
    "print(df_summaries_train.head())\n",
    "print(df_prompts_test.head())\n",
    "print(df_prompts_train.head())\n",
    "\n",
    "# Generamos estadísticas descriptivas para las columnas numéricas de df_summaries_test\n",
    "print(df_summaries_train.describe())\n",
    "\n",
    "# Como ejemplo, suponemos que la variable 'text' es de formato string y deseamos conocer la cantidad de caracteres en ella,\n",
    "# generamos una nueva columna en el dataframe con dicha información\n",
    "df_summaries_train['len_text'] = df_summaries_train['text'].str.len()\n",
    "\n",
    "# Generamos un gráfico para visualizar la distribución de las longitudes de 'text'\n",
    "sns.boxplot(x=df_summaries_train['len_text'])\n",
    "plt.show()\n",
    "\n",
    "# Listamos la cantidad de valores distintos en la columna 'prompt_id'\n",
    "print(\"Valores únicos en 'prompt_id':\", df_summaries_train['prompt_id'].nunique())\n"
   ]
  }
 ],
 "metadata": {
  "kernelspec": {
   "display_name": "Python 3",
   "language": "python",
   "name": "python3"
  },
  "language_info": {
   "codemirror_mode": {
    "name": "ipython",
    "version": 3
   },
   "file_extension": ".py",
   "mimetype": "text/x-python",
   "name": "python",
   "nbconvert_exporter": "python",
   "pygments_lexer": "ipython3",
   "version": "3.9.1"
  },
  "orig_nbformat": 4
 },
 "nbformat": 4,
 "nbformat_minor": 2
}
